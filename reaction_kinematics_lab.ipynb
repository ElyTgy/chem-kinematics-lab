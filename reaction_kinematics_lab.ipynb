{
  "nbformat": 4,
  "nbformat_minor": 0,
  "metadata": {
    "colab": {
      "provenance": [],
      "collapsed_sections": [],
      "authorship_tag": "ABX9TyNDb0zcjIHgymAPG4MFfAp4",
      "include_colab_link": true
    },
    "kernelspec": {
      "name": "python3",
      "display_name": "Python 3"
    },
    "language_info": {
      "name": "python"
    }
  },
  "cells": [
    {
      "cell_type": "markdown",
      "metadata": {
        "id": "view-in-github",
        "colab_type": "text"
      },
      "source": [
        "<a href=\"https://colab.research.google.com/github/ElyTgy/chem-kinematics-lab/blob/main/reaction_kinematics_lab.ipynb\" target=\"_parent\"><img src=\"https://colab.research.google.com/assets/colab-badge.svg\" alt=\"Open In Colab\"/></a>"
      ]
    },
    {
      "cell_type": "markdown",
      "source": [
        "### Problem statement:\n",
        "\n",
        "The rate of reaction for **$H_{3} C_{6} H_{5} O_{7}$** was to be determined in grams/seconds for different surface areas of the compund to experimentally determine how surface area determines the rate of a reaction.\n",
        "\n",
        "The reaction was $H_{3} C_{6} H_{5} O_{7(s)} + 3NaHCO_{(aq)} -> 3CO_{2(g)}+ 3H_{2}O_{l} + Na_{3}C_{6}H_{7(aq)}$"
      ],
      "metadata": {
        "id": "IwgWkZtZQo5X"
      }
    },
    {
      "cell_type": "markdown",
      "source": [
        "\n",
        "### Two methods were used:\n",
        "#### 1. Change in volume: The escaping $CO_{2}$ was to be measured using a eudiometer; five trials using the tablet in its normal form, and five trials in powdered form. $CO_{2}$ moles was then converted to $H_{3} C_{6} H_{5} O_{7}$ moles, which was used to determine the reaction rate for both surface areas.\n",
        "\n",
        "#### 2. Change in mass: The change in mass after the reaction attributed to the $CO_{2}$ was converted to moles of $H_{3} C_{6} H_{5} O_{7}$. Five trials were run for powdered form and normal form each.**bold text**"
      ],
      "metadata": {
        "id": "nC6PJ1ZKWE5V"
      }
    },
    {
      "cell_type": "code",
      "source": [
        "import statistics"
      ],
      "metadata": {
        "id": "AOW9YGjZ7X0O"
      },
      "execution_count": null,
      "outputs": []
    },
    {
      "cell_type": "code",
      "source": [
        "# H*8 + C*6 + O*7\n",
        "MOL_MASS_ACID = (8*1.008)+(6*12.011)+(7*15.999)\n",
        "MOL_MASS_CO2 = (12.011) + (2*15.999)\n",
        "R = 0.0821"
      ],
      "metadata": {
        "id": "hbzMOM1uX7zF"
      },
      "execution_count": null,
      "outputs": []
    },
    {
      "cell_type": "markdown",
      "source": [
        "## 1.Volume:\n",
        "\n",
        "1. Get conversion factor using PV=nRT\n",
        "2. Get moles of $CO_{2}$\n",
        "3. Convert moles of $CO_{2}$ to moles of $H_{3} C_{6} H_{5} O_{7}$\n",
        "4. Grams of $H_{3} C_{6} H_{5} O_{7}$\n",
        "5. grams/second\n",
        "\n",
        "**Inputs**: final volume, time, temperature (celsuis), pressure (in atm), R, mass of molecule"
      ],
      "metadata": {
        "id": "BVOFGRhNA0FK"
      }
    },
    {
      "cell_type": "code",
      "source": [
        "#sigfig_f is just the smallest sig fig from all the inputs\n",
        "def rate_vol(vf_ml, time, temp_c, pressure=1):\n",
        "  temp_k = temp_c + 273.15\n",
        "  vf_l = vf_ml / 1000\n",
        "\n",
        "  #v = nRT/P\n",
        "  conversion_factor = (R*temp_k)/pressure\n",
        "\n",
        "  delta_co2_mols = vf_l/conversion_factor\n",
        "  delta_acid_mols = delta_co2_mols / 3\n",
        "  delta_acid_mass = delta_acid_mols * MOL_MASS_ACID\n",
        "\n",
        "  rate = delta_acid_mass / time\n",
        "\n",
        "  return rate\n"
      ],
      "metadata": {
        "id": "jn69WYgZV7r1"
      },
      "execution_count": null,
      "outputs": []
    },
    {
      "cell_type": "code",
      "source": [
        "powdered_v = [rate_vol(12.5, 30, 22),\n",
        "              rate_vol(11.4, 30, 22),\n",
        "              rate_vol(10.4, 30, 21),\n",
        "              rate_vol(7.9, 30, 21),\n",
        "              rate_vol(11.2, 30, 20)]\n",
        "\n",
        "solid_v = [rate_vol(10.4, 60, 21),\n",
        "           rate_vol(11.9, 60, 19),\n",
        "           rate_vol(13.1, 60, 19),\n",
        "           rate_vol(10.1, 60, 18),\n",
        "           rate_vol(9.2, 60, 20)]\n",
        "\n",
        "print(\"powdered:\")\n",
        "print([f\"trial {i+1}: {item}\" for i, item in enumerate(powdered_v)])\n",
        "print(f\"average: {statistics.mean(powdered_v)}\")\n",
        "print(\"non-powdered:\")\n",
        "print([f\"trial {i+1}: {item}\" for i, item in enumerate(solid_v)])\n",
        "print(f\"average: {statistics.mean(solid_v)}\")"
      ],
      "metadata": {
        "colab": {
          "base_uri": "https://localhost:8080/"
        },
        "id": "u0pBZ39SallL",
        "outputId": "c6b7d54c-3e32-4237-c9ef-bf2f47d6b942"
      },
      "execution_count": null,
      "outputs": [
        {
          "output_type": "stream",
          "name": "stdout",
          "text": [
            "powdered:\n",
            "['trial 1: 0.0011011866011687529', 'trial 2: 0.0010042821802659025', 'trial 3: 0.0009193019462134438', 'trial 4: 0.0006983159014505967', 'trial 5: 0.0009933946508617494']\n",
            "average: 0.000943296255992089\n",
            "non-powdered:\n",
            "['trial 1: 0.0004596509731067219', 'trial 2: 0.0005295473122007179', 'trial 3: 0.0005829470411621347', 'trial 4: 0.00045099141691678786', 'trial 5: 0.0004080013744610756']\n",
            "average: 0.0004862276235694876\n"
          ]
        }
      ]
    },
    {
      "cell_type": "markdown",
      "source": [
        "## 2. Mass:\n",
        "1. Get initial mass by adding the mass of the water and the tablet.\n",
        "2. Deduct that mass from the final mass in the beaker, which gives the change in mass of CO2.\n",
        "3. Convert to moles\n",
        "4. Get moles of H3C6H5O7\n",
        "5. Convert to grams\n",
        "6. Divide by the time to get grams/second."
      ],
      "metadata": {
        "id": "zQGVXEAEYP_F"
      }
    },
    {
      "cell_type": "code",
      "source": [
        "def rate_mass(water_mass, final_mass, time, tablet_mass=2):\n",
        "  init_mass = water_mass + tablet_mass\n",
        "  delta_co2_mass = init_mass - final_mass\n",
        "  delta_co2_mols = delta_co2_mass / MOL_MASS_CO2\n",
        "  delta_acid_mols = delta_co2_mols / 3\n",
        "  delta_acid_grams = delta_acid_mols * MOL_MASS_ACID\n",
        "  rate = delta_acid_grams / time\n",
        "  return rate"
      ],
      "metadata": {
        "id": "sZBy8ghE8fY-"
      },
      "execution_count": null,
      "outputs": []
    },
    {
      "cell_type": "code",
      "source": [
        "powdered_m = [rate_mass(119.47, 121.24, 60),\n",
        "              rate_mass(123.17, 124.94, 60),\n",
        "              rate_mass(120.52, 122.32, 60),\n",
        "              rate_mass(122.78, 124.48, 60),\n",
        "              rate_mass(125.13, 126.87, 60)]\n",
        "              \n",
        "solid_m = [rate_mass(122.01, 123.81, 90),\n",
        "           rate_mass(122.84, 124.70, 90),\n",
        "           rate_mass(113.93, 115.71, 90),\n",
        "           rate_mass(109.67, 111.46, 90),\n",
        "           rate_mass(115.80, 117.66, 90)]\n",
        "\n",
        "print(\"powdered:\")\n",
        "print([f\"trial {i+1}: {item}\" for i, item in enumerate(powdered_m)])\n",
        "print(f\"average: {statistics.mean(powdered_m)}\")\n",
        "print(\"non-powdered:\")\n",
        "print([f\"trial {i+1}: {item}\" for i, item in enumerate(solid_m)])\n",
        "print(f\"average: {statistics.mean(solid_m)}\")"
      ],
      "metadata": {
        "colab": {
          "base_uri": "https://localhost:8080/"
        },
        "id": "U253Nl2Y9xZs",
        "outputId": "7b8831f5-9556-4a06-e523-b1e27a6c1316"
      },
      "execution_count": null,
      "outputs": [
        {
          "output_type": "stream",
          "name": "stdout",
          "text": [
            "powdered:\n",
            "['trial 1: 0.0055781885523416615', 'trial 2: 0.0055781885523416615', 'trial 3: 0.004850598741166649', 'trial 4: 0.0072758981117498015', 'trial 5: 0.006305778363516332']\n",
            "average: 0.005917730464223221\n",
            "non-powdered:\n",
            "['trial 1: 0.0032337324941110993', 'trial 2: 0.0022636127458777466', 'trial 3: 0.0035571057435223696', 'trial 4: 0.0033954191188167336', 'trial 5: 0.0022636127458777466']\n",
            "average: 0.0029426965696411392\n"
          ]
        }
      ]
    }
  ]
}